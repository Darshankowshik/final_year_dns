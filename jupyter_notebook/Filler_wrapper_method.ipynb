{
 "cells": [
  {
   "cell_type": "code",
   "execution_count": 1,
   "id": "3bf54a41",
   "metadata": {},
   "outputs": [],
   "source": [
    "from sklearn.ensemble import RandomForestClassifier, GradientBoostingClassifier\n",
    "from sklearn.svm import SVC\n",
    "from sklearn.neighbors import KNeighborsClassifier\n",
    "from sklearn.tree import DecisionTreeClassifier\n",
    "from sklearn.naive_bayes import GaussianNB\n",
    "from sklearn.ensemble import AdaBoostClassifier\n",
    "from sklearn.metrics import accuracy_score, precision_score, recall_score, f1_score\n",
    "import pandas as pd\n",
    "from sklearn.model_selection import train_test_split\n",
    "from sklearn.feature_selection import RFE\n",
    "from sklearn.linear_model import LogisticRegression"
   ]
  },
  {
   "cell_type": "code",
   "execution_count": 2,
   "id": "bdfa4f2f",
   "metadata": {},
   "outputs": [],
   "source": [
    "# Load the dataset\n",
    "df = pd.read_csv(r'E:\\BenignAndMaliciousDataset.csv')\n"
   ]
  },
  {
   "cell_type": "code",
   "execution_count": 3,
   "id": "5235430e",
   "metadata": {},
   "outputs": [
    {
     "data": {
      "text/plain": [
       "Domain                 90000\n",
       "DNSRecordType              3\n",
       "MXDnsResponse              2\n",
       "TXTDnsResponse             2\n",
       "HasSPFInfo                 2\n",
       "HasDkimInfo                2\n",
       "HasDmarcInfo               2\n",
       "Ip                     16985\n",
       "DomainInAlexaDB            2\n",
       "CommonPorts                2\n",
       "CountryCode              108\n",
       "RegisteredCountry        113\n",
       "CreationDate               5\n",
       "LastUpdateDate             5\n",
       "ASN                     1976\n",
       "HttpResponseCode           4\n",
       "RegisteredOrg           4377\n",
       "SubdomainNumber          207\n",
       "Entropy                    6\n",
       "EntropyOfSubDomains        4\n",
       "StrangeCharacters         47\n",
       "TLD                      756\n",
       "IpReputation               2\n",
       "DomainReputation           2\n",
       "ConsoantRatio             11\n",
       "NumericRatio               9\n",
       "SpecialCharRatio          10\n",
       "VowelRatio                 9\n",
       "ConsoantSequence          25\n",
       "VowelSequence              8\n",
       "NumericSequence           26\n",
       "SpecialCharSequence        9\n",
       "DomainLength             150\n",
       "Class                      2\n",
       "dtype: int64"
      ]
     },
     "execution_count": 3,
     "metadata": {},
     "output_type": "execute_result"
    }
   ],
   "source": [
    "df.nunique(axis=0)"
   ]
  },
  {
   "cell_type": "code",
   "execution_count": 4,
   "id": "1b63918a",
   "metadata": {},
   "outputs": [
    {
     "data": {
      "text/plain": [
       "Domain                     0\n",
       "DNSRecordType              0\n",
       "MXDnsResponse              0\n",
       "TXTDnsResponse             0\n",
       "HasSPFInfo                 0\n",
       "HasDkimInfo                0\n",
       "HasDmarcInfo               0\n",
       "Ip                         0\n",
       "DomainInAlexaDB            0\n",
       "CommonPorts                0\n",
       "CountryCode            29052\n",
       "RegisteredCountry      77774\n",
       "CreationDate               0\n",
       "LastUpdateDate             0\n",
       "ASN                        0\n",
       "HttpResponseCode           0\n",
       "RegisteredOrg          35391\n",
       "SubdomainNumber            0\n",
       "Entropy                    0\n",
       "EntropyOfSubDomains        0\n",
       "StrangeCharacters          0\n",
       "TLD                      170\n",
       "IpReputation               0\n",
       "DomainReputation           0\n",
       "ConsoantRatio              0\n",
       "NumericRatio               0\n",
       "SpecialCharRatio           0\n",
       "VowelRatio                 0\n",
       "ConsoantSequence           0\n",
       "VowelSequence              0\n",
       "NumericSequence            0\n",
       "SpecialCharSequence        0\n",
       "DomainLength               0\n",
       "Class                      0\n",
       "dtype: int64"
      ]
     },
     "execution_count": 4,
     "metadata": {},
     "output_type": "execute_result"
    }
   ],
   "source": [
    "# Check for null values in each column\n",
    "null_values_in_columns = df.isnull().sum()\n",
    "null_values_in_columns"
   ]
  },
  {
   "cell_type": "code",
   "execution_count": 5,
   "id": "a050a8f0",
   "metadata": {},
   "outputs": [],
   "source": [
    "df=df.drop(columns=['Domain','CountryCode','RegisteredCountry','RegisteredOrg','DNSRecordType'])"
   ]
  },
  {
   "cell_type": "code",
   "execution_count": 6,
   "id": "fa351440",
   "metadata": {
    "scrolled": false
   },
   "outputs": [
    {
     "data": {
      "text/plain": [
       "MXDnsResponse            0\n",
       "TXTDnsResponse           0\n",
       "HasSPFInfo               0\n",
       "HasDkimInfo              0\n",
       "HasDmarcInfo             0\n",
       "Ip                       0\n",
       "DomainInAlexaDB          0\n",
       "CommonPorts              0\n",
       "CreationDate             0\n",
       "LastUpdateDate           0\n",
       "ASN                      0\n",
       "HttpResponseCode         0\n",
       "SubdomainNumber          0\n",
       "Entropy                  0\n",
       "EntropyOfSubDomains      0\n",
       "StrangeCharacters        0\n",
       "TLD                    170\n",
       "IpReputation             0\n",
       "DomainReputation         0\n",
       "ConsoantRatio            0\n",
       "NumericRatio             0\n",
       "SpecialCharRatio         0\n",
       "VowelRatio               0\n",
       "ConsoantSequence         0\n",
       "VowelSequence            0\n",
       "NumericSequence          0\n",
       "SpecialCharSequence      0\n",
       "DomainLength             0\n",
       "Class                    0\n",
       "dtype: int64"
      ]
     },
     "execution_count": 6,
     "metadata": {},
     "output_type": "execute_result"
    }
   ],
   "source": [
    "# Check for null values in each column\n",
    "null_values_in_columns = df.isnull().sum()\n",
    "null_values_in_columns"
   ]
  },
  {
   "cell_type": "code",
   "execution_count": 7,
   "id": "ec78475b",
   "metadata": {},
   "outputs": [],
   "source": [
    "df.dropna(subset=['TLD'], inplace=True)"
   ]
  },
  {
   "cell_type": "code",
   "execution_count": 8,
   "id": "f0dbaec8",
   "metadata": {},
   "outputs": [
    {
     "data": {
      "text/plain": [
       "MXDnsResponse          0\n",
       "TXTDnsResponse         0\n",
       "HasSPFInfo             0\n",
       "HasDkimInfo            0\n",
       "HasDmarcInfo           0\n",
       "Ip                     0\n",
       "DomainInAlexaDB        0\n",
       "CommonPorts            0\n",
       "CreationDate           0\n",
       "LastUpdateDate         0\n",
       "ASN                    0\n",
       "HttpResponseCode       0\n",
       "SubdomainNumber        0\n",
       "Entropy                0\n",
       "EntropyOfSubDomains    0\n",
       "StrangeCharacters      0\n",
       "TLD                    0\n",
       "IpReputation           0\n",
       "DomainReputation       0\n",
       "ConsoantRatio          0\n",
       "NumericRatio           0\n",
       "SpecialCharRatio       0\n",
       "VowelRatio             0\n",
       "ConsoantSequence       0\n",
       "VowelSequence          0\n",
       "NumericSequence        0\n",
       "SpecialCharSequence    0\n",
       "DomainLength           0\n",
       "Class                  0\n",
       "dtype: int64"
      ]
     },
     "execution_count": 8,
     "metadata": {},
     "output_type": "execute_result"
    }
   ],
   "source": [
    "# Check for null values in each column\n",
    "null_values_in_columns = df.isnull().sum()\n",
    "null_values_in_columns"
   ]
  },
  {
   "cell_type": "code",
   "execution_count": 9,
   "id": "872f1d6a",
   "metadata": {},
   "outputs": [
    {
     "data": {
      "text/plain": [
       "(89830, 29)"
      ]
     },
     "execution_count": 9,
     "metadata": {},
     "output_type": "execute_result"
    }
   ],
   "source": [
    "df.shape"
   ]
  },
  {
   "cell_type": "code",
   "execution_count": 10,
   "id": "c689eac1",
   "metadata": {},
   "outputs": [
    {
     "data": {
      "text/html": [
       "<div>\n",
       "<style scoped>\n",
       "    .dataframe tbody tr th:only-of-type {\n",
       "        vertical-align: middle;\n",
       "    }\n",
       "\n",
       "    .dataframe tbody tr th {\n",
       "        vertical-align: top;\n",
       "    }\n",
       "\n",
       "    .dataframe thead th {\n",
       "        text-align: right;\n",
       "    }\n",
       "</style>\n",
       "<table border=\"1\" class=\"dataframe\">\n",
       "  <thead>\n",
       "    <tr style=\"text-align: right;\">\n",
       "      <th></th>\n",
       "      <th>MXDnsResponse</th>\n",
       "      <th>TXTDnsResponse</th>\n",
       "      <th>HasSPFInfo</th>\n",
       "      <th>HasDkimInfo</th>\n",
       "      <th>HasDmarcInfo</th>\n",
       "      <th>Ip</th>\n",
       "      <th>DomainInAlexaDB</th>\n",
       "      <th>CommonPorts</th>\n",
       "      <th>CreationDate</th>\n",
       "      <th>LastUpdateDate</th>\n",
       "      <th>...</th>\n",
       "      <th>ConsoantRatio</th>\n",
       "      <th>NumericRatio</th>\n",
       "      <th>SpecialCharRatio</th>\n",
       "      <th>VowelRatio</th>\n",
       "      <th>ConsoantSequence</th>\n",
       "      <th>VowelSequence</th>\n",
       "      <th>NumericSequence</th>\n",
       "      <th>SpecialCharSequence</th>\n",
       "      <th>DomainLength</th>\n",
       "      <th>Class</th>\n",
       "    </tr>\n",
       "  </thead>\n",
       "  <tbody>\n",
       "    <tr>\n",
       "      <th>0</th>\n",
       "      <td>False</td>\n",
       "      <td>False</td>\n",
       "      <td>False</td>\n",
       "      <td>False</td>\n",
       "      <td>False</td>\n",
       "      <td>16984</td>\n",
       "      <td>False</td>\n",
       "      <td>False</td>\n",
       "      <td>0</td>\n",
       "      <td>0</td>\n",
       "      <td>...</td>\n",
       "      <td>0.6</td>\n",
       "      <td>0.1</td>\n",
       "      <td>0.0</td>\n",
       "      <td>0.2</td>\n",
       "      <td>10</td>\n",
       "      <td>4</td>\n",
       "      <td>1</td>\n",
       "      <td>0</td>\n",
       "      <td>134</td>\n",
       "      <td>1</td>\n",
       "    </tr>\n",
       "    <tr>\n",
       "      <th>1</th>\n",
       "      <td>False</td>\n",
       "      <td>False</td>\n",
       "      <td>False</td>\n",
       "      <td>False</td>\n",
       "      <td>False</td>\n",
       "      <td>16984</td>\n",
       "      <td>False</td>\n",
       "      <td>False</td>\n",
       "      <td>0</td>\n",
       "      <td>0</td>\n",
       "      <td>...</td>\n",
       "      <td>0.7</td>\n",
       "      <td>0.1</td>\n",
       "      <td>0.0</td>\n",
       "      <td>0.2</td>\n",
       "      <td>12</td>\n",
       "      <td>2</td>\n",
       "      <td>2</td>\n",
       "      <td>1</td>\n",
       "      <td>123</td>\n",
       "      <td>1</td>\n",
       "    </tr>\n",
       "    <tr>\n",
       "      <th>2</th>\n",
       "      <td>False</td>\n",
       "      <td>False</td>\n",
       "      <td>False</td>\n",
       "      <td>False</td>\n",
       "      <td>False</td>\n",
       "      <td>16984</td>\n",
       "      <td>False</td>\n",
       "      <td>False</td>\n",
       "      <td>0</td>\n",
       "      <td>0</td>\n",
       "      <td>...</td>\n",
       "      <td>0.6</td>\n",
       "      <td>0.2</td>\n",
       "      <td>0.0</td>\n",
       "      <td>0.2</td>\n",
       "      <td>16</td>\n",
       "      <td>2</td>\n",
       "      <td>3</td>\n",
       "      <td>0</td>\n",
       "      <td>150</td>\n",
       "      <td>1</td>\n",
       "    </tr>\n",
       "    <tr>\n",
       "      <th>3</th>\n",
       "      <td>False</td>\n",
       "      <td>False</td>\n",
       "      <td>False</td>\n",
       "      <td>False</td>\n",
       "      <td>False</td>\n",
       "      <td>16984</td>\n",
       "      <td>False</td>\n",
       "      <td>False</td>\n",
       "      <td>0</td>\n",
       "      <td>0</td>\n",
       "      <td>...</td>\n",
       "      <td>0.6</td>\n",
       "      <td>0.1</td>\n",
       "      <td>0.0</td>\n",
       "      <td>0.1</td>\n",
       "      <td>9</td>\n",
       "      <td>1</td>\n",
       "      <td>2</td>\n",
       "      <td>0</td>\n",
       "      <td>122</td>\n",
       "      <td>1</td>\n",
       "    </tr>\n",
       "    <tr>\n",
       "      <th>4</th>\n",
       "      <td>False</td>\n",
       "      <td>False</td>\n",
       "      <td>False</td>\n",
       "      <td>False</td>\n",
       "      <td>False</td>\n",
       "      <td>16984</td>\n",
       "      <td>False</td>\n",
       "      <td>False</td>\n",
       "      <td>0</td>\n",
       "      <td>0</td>\n",
       "      <td>...</td>\n",
       "      <td>0.6</td>\n",
       "      <td>0.2</td>\n",
       "      <td>0.0</td>\n",
       "      <td>0.1</td>\n",
       "      <td>10</td>\n",
       "      <td>2</td>\n",
       "      <td>2</td>\n",
       "      <td>0</td>\n",
       "      <td>151</td>\n",
       "      <td>1</td>\n",
       "    </tr>\n",
       "  </tbody>\n",
       "</table>\n",
       "<p>5 rows × 29 columns</p>\n",
       "</div>"
      ],
      "text/plain": [
       "   MXDnsResponse  TXTDnsResponse  HasSPFInfo  HasDkimInfo  HasDmarcInfo  \\\n",
       "0          False           False       False        False         False   \n",
       "1          False           False       False        False         False   \n",
       "2          False           False       False        False         False   \n",
       "3          False           False       False        False         False   \n",
       "4          False           False       False        False         False   \n",
       "\n",
       "      Ip  DomainInAlexaDB  CommonPorts  CreationDate  LastUpdateDate  ...  \\\n",
       "0  16984            False        False             0               0  ...   \n",
       "1  16984            False        False             0               0  ...   \n",
       "2  16984            False        False             0               0  ...   \n",
       "3  16984            False        False             0               0  ...   \n",
       "4  16984            False        False             0               0  ...   \n",
       "\n",
       "   ConsoantRatio  NumericRatio  SpecialCharRatio  VowelRatio  \\\n",
       "0            0.6           0.1               0.0         0.2   \n",
       "1            0.7           0.1               0.0         0.2   \n",
       "2            0.6           0.2               0.0         0.2   \n",
       "3            0.6           0.1               0.0         0.1   \n",
       "4            0.6           0.2               0.0         0.1   \n",
       "\n",
       "   ConsoantSequence  VowelSequence NumericSequence  SpecialCharSequence  \\\n",
       "0                10              4               1                    0   \n",
       "1                12              2               2                    1   \n",
       "2                16              2               3                    0   \n",
       "3                 9              1               2                    0   \n",
       "4                10              2               2                    0   \n",
       "\n",
       "   DomainLength  Class  \n",
       "0           134      1  \n",
       "1           123      1  \n",
       "2           150      1  \n",
       "3           122      1  \n",
       "4           151      1  \n",
       "\n",
       "[5 rows x 29 columns]"
      ]
     },
     "execution_count": 10,
     "metadata": {},
     "output_type": "execute_result"
    }
   ],
   "source": [
    "df.head()"
   ]
  },
  {
   "cell_type": "code",
   "execution_count": 11,
   "id": "babbc19d",
   "metadata": {},
   "outputs": [],
   "source": [
    "# Separate features (X) and target variable (y)\n",
    "X = df.drop(columns=['Class'])  # Exclude non-numeric and irrelevant features\n",
    "y = df['Class']\n"
   ]
  },
  {
   "cell_type": "code",
   "execution_count": 12,
   "id": "219af118",
   "metadata": {},
   "outputs": [],
   "source": [
    "# Split the dataset into training and testing sets\n",
    "X_train, X_test, y_train, y_test = train_test_split(X, y, test_size=0.2, random_state=42)\n"
   ]
  },
  {
   "cell_type": "code",
   "execution_count": 13,
   "id": "b07f1e91",
   "metadata": {},
   "outputs": [
    {
     "name": "stderr",
     "output_type": "stream",
     "text": [
      "C:\\Users\\Lenovo\\AppData\\Local\\Temp\\ipykernel_30984\\2191628688.py:2: FutureWarning: The default value of numeric_only in DataFrame.corrwith is deprecated. In a future version, it will default to False. Select only valid columns or specify the value of numeric_only to silence this warning.\n",
      "  correlation_matrix = X_train.corrwith(y_train)\n"
     ]
    }
   ],
   "source": [
    "# Filter Method (Correlation)\n",
    "correlation_matrix = X_train.corrwith(y_train)\n",
    "relevant_features = correlation_matrix[abs(correlation_matrix) > 0.1].index.tolist()\n"
   ]
  },
  {
   "cell_type": "code",
   "execution_count": 14,
   "id": "fbd8452e",
   "metadata": {},
   "outputs": [
    {
     "data": {
      "text/plain": [
       "MXDnsResponse         -0.170033\n",
       "TXTDnsResponse         0.539784\n",
       "HasSPFInfo             0.550019\n",
       "HasDkimInfo           -0.008657\n",
       "HasDmarcInfo          -0.056551\n",
       "Ip                     0.042848\n",
       "DomainInAlexaDB       -0.069525\n",
       "CommonPorts           -0.147342\n",
       "CreationDate           0.470129\n",
       "LastUpdateDate         0.383001\n",
       "ASN                    0.073222\n",
       "HttpResponseCode      -0.240346\n",
       "SubdomainNumber       -0.008526\n",
       "Entropy                0.239639\n",
       "EntropyOfSubDomains   -0.027709\n",
       "StrangeCharacters      0.688800\n",
       "IpReputation          -0.110745\n",
       "DomainReputation       0.000809\n",
       "ConsoantRatio         -0.739427\n",
       "NumericRatio           0.838674\n",
       "SpecialCharRatio      -0.124517\n",
       "VowelRatio            -0.616000\n",
       "ConsoantSequence      -0.067326\n",
       "VowelSequence         -0.314069\n",
       "NumericSequence        0.788131\n",
       "SpecialCharSequence   -0.056903\n",
       "DomainLength           0.361445\n",
       "dtype: float64"
      ]
     },
     "execution_count": 14,
     "metadata": {},
     "output_type": "execute_result"
    }
   ],
   "source": [
    "correlation_matrix"
   ]
  },
  {
   "cell_type": "code",
   "execution_count": 15,
   "id": "a3932bc5",
   "metadata": {},
   "outputs": [
    {
     "data": {
      "text/plain": [
       "['MXDnsResponse',\n",
       " 'TXTDnsResponse',\n",
       " 'HasSPFInfo',\n",
       " 'CommonPorts',\n",
       " 'CreationDate',\n",
       " 'LastUpdateDate',\n",
       " 'HttpResponseCode',\n",
       " 'Entropy',\n",
       " 'StrangeCharacters',\n",
       " 'IpReputation',\n",
       " 'ConsoantRatio',\n",
       " 'NumericRatio',\n",
       " 'SpecialCharRatio',\n",
       " 'VowelRatio',\n",
       " 'VowelSequence',\n",
       " 'NumericSequence',\n",
       " 'DomainLength']"
      ]
     },
     "execution_count": 15,
     "metadata": {},
     "output_type": "execute_result"
    }
   ],
   "source": [
    "relevant_features"
   ]
  },
  {
   "cell_type": "code",
   "execution_count": 16,
   "id": "e9e9b2a9",
   "metadata": {},
   "outputs": [],
   "source": [
    "# Wrapper Method (Recursive Feature Elimination)\n",
    "model = LogisticRegression(max_iter=1000)\n",
    "rfe = RFE(model)\n",
    "rfe.fit(X_train[relevant_features], y_train)\n",
    "wrapper_features = X_train[relevant_features].columns[rfe.support_]\n"
   ]
  },
  {
   "cell_type": "code",
   "execution_count": 17,
   "id": "17c67211",
   "metadata": {},
   "outputs": [
    {
     "data": {
      "text/plain": [
       "Index(['HasSPFInfo', 'CommonPorts', 'LastUpdateDate', 'StrangeCharacters',\n",
       "       'ConsoantRatio', 'NumericRatio', 'SpecialCharRatio', 'VowelRatio'],\n",
       "      dtype='object')"
      ]
     },
     "execution_count": 17,
     "metadata": {},
     "output_type": "execute_result"
    }
   ],
   "source": [
    "wrapper_features"
   ]
  },
  {
   "cell_type": "code",
   "execution_count": 18,
   "id": "ff70d2ff",
   "metadata": {},
   "outputs": [],
   "source": [
    "# Embedded Method (Lasso Regression)\n",
    "lasso_model = LogisticRegression(penalty='l1', solver='liblinear')\n",
    "lasso_model.fit(X_train[wrapper_features], y_train)\n",
    "lasso_features = X_train[wrapper_features].columns[lasso_model.coef_[0] != 0]\n"
   ]
  },
  {
   "cell_type": "code",
   "execution_count": 19,
   "id": "424725d5",
   "metadata": {},
   "outputs": [
    {
     "data": {
      "text/plain": [
       "Index(['HasSPFInfo', 'CommonPorts', 'LastUpdateDate', 'StrangeCharacters',\n",
       "       'ConsoantRatio', 'NumericRatio', 'SpecialCharRatio', 'VowelRatio'],\n",
       "      dtype='object')"
      ]
     },
     "execution_count": 19,
     "metadata": {},
     "output_type": "execute_result"
    }
   ],
   "source": [
    "lasso_features"
   ]
  },
  {
   "cell_type": "code",
   "execution_count": 20,
   "id": "81865a37",
   "metadata": {},
   "outputs": [],
   "source": [
    "# Hybrid Method (Combination of Filter and Wrapper)\n",
    "selected_features = lasso_features  # Use Lasso features as the initial selection\n",
    "rfe = RFE(lasso_model)\n",
    "rfe.fit(X_train[selected_features], y_train)\n",
    "final_selected_features = X_train[selected_features].columns[rfe.support_]\n"
   ]
  },
  {
   "cell_type": "code",
   "execution_count": 21,
   "id": "cc767699",
   "metadata": {},
   "outputs": [
    {
     "data": {
      "text/plain": [
       "Index(['HasSPFInfo', 'CommonPorts', 'LastUpdateDate', 'StrangeCharacters',\n",
       "       'ConsoantRatio', 'NumericRatio', 'SpecialCharRatio', 'VowelRatio'],\n",
       "      dtype='object')"
      ]
     },
     "execution_count": 21,
     "metadata": {},
     "output_type": "execute_result"
    }
   ],
   "source": [
    "selected_features"
   ]
  },
  {
   "cell_type": "code",
   "execution_count": 22,
   "id": "6e1a6bd2",
   "metadata": {},
   "outputs": [
    {
     "data": {
      "text/plain": [
       "Index(['ConsoantRatio', 'NumericRatio', 'SpecialCharRatio', 'VowelRatio'], dtype='object')"
      ]
     },
     "execution_count": 22,
     "metadata": {},
     "output_type": "execute_result"
    }
   ],
   "source": [
    "final_selected_features"
   ]
  },
  {
   "cell_type": "code",
   "execution_count": 23,
   "id": "2dab57de",
   "metadata": {},
   "outputs": [],
   "source": [
    "# Define classifiers\n",
    "classifiers = {\n",
    "    'Random Forest': RandomForestClassifier(),\n",
    "    'Support Vector Machine': SVC(),\n",
    "    'Gradient Boosting': GradientBoostingClassifier(),\n",
    "    'K-Nearest Neighbors': KNeighborsClassifier(),\n",
    "    'Decision Tree': DecisionTreeClassifier(),\n",
    "    'Naive Bayes': GaussianNB(),\n",
    "    'AdaBoost': AdaBoostClassifier()\n",
    "}\n"
   ]
  },
  {
   "cell_type": "code",
   "execution_count": 24,
   "id": "9f312b09",
   "metadata": {},
   "outputs": [
    {
     "name": "stdout",
     "output_type": "stream",
     "text": [
      "Classifier                Accuracy    Precision    Recall    F1-score\n",
      "----------------------  ----------  -----------  --------  ----------\n",
      "Random Forest             0.947679     0.923706  0.976512    0.949375\n",
      "Support Vector Machine    0.945119     0.910791  0.987481    0.947587\n",
      "Gradient Boosting         0.947456     0.919975  0.980722    0.949378\n",
      "K-Nearest Neighbors       0.943393     0.933434  0.955462    0.94432\n",
      "Decision Tree             0.947512     0.923682  0.97618     0.949205\n",
      "Naive Bayes               0.889402     0.938458  0.834589    0.883481\n",
      "AdaBoost                  0.943003     0.91738   0.974296    0.944982\n"
     ]
    }
   ],
   "source": [
    "from tabulate import tabulate\n",
    "\n",
    "# Initialize an empty list to store results\n",
    "results = []\n",
    "\n",
    "# Evaluate each classifier\n",
    "for clf_name, clf in classifiers.items():\n",
    "    # Train the classifier with the final selected features\n",
    "    clf.fit(X_train[final_selected_features], y_train)\n",
    "\n",
    "    # Evaluate the model on the test set\n",
    "    y_pred = clf.predict(X_test[final_selected_features])\n",
    "\n",
    "    # Compute evaluation metrics\n",
    "    accuracy = accuracy_score(y_test, y_pred)\n",
    "    precision = precision_score(y_test, y_pred)\n",
    "    recall = recall_score(y_test, y_pred)\n",
    "    f1 = f1_score(y_test, y_pred)\n",
    "\n",
    "    # Append results to the list\n",
    "    results.append([clf_name, accuracy, precision, recall, f1])\n",
    "\n",
    "# Print results in tabular format\n",
    "print(tabulate(results, headers=[\"Classifier\", \"Accuracy\", \"Precision\", \"Recall\", \"F1-score\"]))\n"
   ]
  },
  {
   "cell_type": "code",
   "execution_count": null,
   "id": "23270c78",
   "metadata": {},
   "outputs": [],
   "source": []
  }
 ],
 "metadata": {
  "kernelspec": {
   "display_name": "Python 3 (ipykernel)",
   "language": "python",
   "name": "python3"
  },
  "language_info": {
   "codemirror_mode": {
    "name": "ipython",
    "version": 3
   },
   "file_extension": ".py",
   "mimetype": "text/x-python",
   "name": "python",
   "nbconvert_exporter": "python",
   "pygments_lexer": "ipython3",
   "version": "3.11.4"
  }
 },
 "nbformat": 4,
 "nbformat_minor": 5
}

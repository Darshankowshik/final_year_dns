{
 "cells": [
  {
   "cell_type": "code",
   "execution_count": 16,
   "id": "6416ec3a",
   "metadata": {},
   "outputs": [],
   "source": [
    "import pandas as pd\n",
    "from sklearn.model_selection import train_test_split, GridSearchCV\n",
    "from sklearn.feature_selection import SelectKBest, f_classif\n",
    "from sklearn.ensemble import RandomForestClassifier, GradientBoostingClassifier, AdaBoostClassifier\n",
    "from sklearn.svm import SVC\n",
    "from sklearn.neighbors import KNeighborsClassifier\n",
    "from sklearn.tree import DecisionTreeClassifier\n",
    "from sklearn.naive_bayes import GaussianNB\n",
    "from sklearn.metrics import accuracy_score, precision_score, recall_score, f1_score"
   ]
  },
  {
   "cell_type": "code",
   "execution_count": 17,
   "id": "1f4c4a68",
   "metadata": {},
   "outputs": [],
   "source": [
    "# Load the dataset\n",
    "df = pd.read_csv(r'E:\\BenignAndMaliciousDataset.csv')\n"
   ]
  },
  {
   "cell_type": "code",
   "execution_count": 18,
   "id": "7dae4c27",
   "metadata": {},
   "outputs": [],
   "source": [
    "df=df.drop(columns=['Domain','CountryCode','RegisteredCountry','RegisteredOrg','DNSRecordType','Ip'])"
   ]
  },
  {
   "cell_type": "code",
   "execution_count": 19,
   "id": "b93f9760",
   "metadata": {},
   "outputs": [],
   "source": [
    "df.dropna(subset=['TLD'], inplace=True)"
   ]
  },
  {
   "cell_type": "code",
   "execution_count": 20,
   "id": "cb9bdb35",
   "metadata": {},
   "outputs": [
    {
     "data": {
      "text/plain": [
       "MXDnsResponse          0\n",
       "TXTDnsResponse         0\n",
       "HasSPFInfo             0\n",
       "HasDkimInfo            0\n",
       "HasDmarcInfo           0\n",
       "DomainInAlexaDB        0\n",
       "CommonPorts            0\n",
       "CreationDate           0\n",
       "LastUpdateDate         0\n",
       "ASN                    0\n",
       "HttpResponseCode       0\n",
       "SubdomainNumber        0\n",
       "Entropy                0\n",
       "EntropyOfSubDomains    0\n",
       "StrangeCharacters      0\n",
       "TLD                    0\n",
       "IpReputation           0\n",
       "DomainReputation       0\n",
       "ConsoantRatio          0\n",
       "NumericRatio           0\n",
       "SpecialCharRatio       0\n",
       "VowelRatio             0\n",
       "ConsoantSequence       0\n",
       "VowelSequence          0\n",
       "NumericSequence        0\n",
       "SpecialCharSequence    0\n",
       "DomainLength           0\n",
       "Class                  0\n",
       "dtype: int64"
      ]
     },
     "execution_count": 20,
     "metadata": {},
     "output_type": "execute_result"
    }
   ],
   "source": [
    "# Check for null values in each column\n",
    "null_values_in_columns = df.isnull().sum()\n",
    "null_values_in_columns"
   ]
  },
  {
   "cell_type": "code",
   "execution_count": 21,
   "id": "0a38b69e",
   "metadata": {},
   "outputs": [
    {
     "data": {
      "text/plain": [
       "MXDnsResponse             bool\n",
       "TXTDnsResponse            bool\n",
       "HasSPFInfo                bool\n",
       "HasDkimInfo               bool\n",
       "HasDmarcInfo              bool\n",
       "DomainInAlexaDB           bool\n",
       "CommonPorts               bool\n",
       "CreationDate             int64\n",
       "LastUpdateDate           int64\n",
       "ASN                      int64\n",
       "HttpResponseCode         int64\n",
       "SubdomainNumber          int64\n",
       "Entropy                  int64\n",
       "EntropyOfSubDomains      int64\n",
       "StrangeCharacters        int64\n",
       "TLD                     object\n",
       "IpReputation              bool\n",
       "DomainReputation          bool\n",
       "ConsoantRatio          float64\n",
       "NumericRatio           float64\n",
       "SpecialCharRatio       float64\n",
       "VowelRatio             float64\n",
       "ConsoantSequence         int64\n",
       "VowelSequence            int64\n",
       "NumericSequence          int64\n",
       "SpecialCharSequence      int64\n",
       "DomainLength             int64\n",
       "Class                    int64\n",
       "dtype: object"
      ]
     },
     "execution_count": 21,
     "metadata": {},
     "output_type": "execute_result"
    }
   ],
   "source": [
    "df.dtypes"
   ]
  },
  {
   "cell_type": "code",
   "execution_count": 22,
   "id": "fcd45f03",
   "metadata": {},
   "outputs": [],
   "source": [
    "# Separate features (X) and target variable (y)\n",
    "X = df.drop(columns=['Class', 'TLD'])  # Exclude non-numeric and irrelevant features\n",
    "y = df['Class']\n"
   ]
  },
  {
   "cell_type": "code",
   "execution_count": 23,
   "id": "d05316e4",
   "metadata": {},
   "outputs": [],
   "source": [
    "# Split the dataset into training and testing sets\n",
    "X_train, X_test, y_train, y_test = train_test_split(X, y, test_size=0.2, random_state=42)\n"
   ]
  },
  {
   "cell_type": "code",
   "execution_count": 24,
   "id": "685d3de0",
   "metadata": {},
   "outputs": [],
   "source": [
    "# Feature Selection: Select top k features using ANOVA F-value\n",
    "selector = SelectKBest(f_classif, k=10)\n",
    "X_train_selected = selector.fit_transform(X_train, y_train)\n",
    "X_test_selected = selector.transform(X_test)\n",
    "selected_features = X.columns[selector.get_support()]\n"
   ]
  },
  {
   "cell_type": "code",
   "execution_count": 25,
   "id": "8cd88002",
   "metadata": {},
   "outputs": [
    {
     "data": {
      "text/plain": [
       "array([[ 0. ,  0. ,  0. , ...,  0.3,  0. , 20. ],\n",
       "       [ 1. ,  1. ,  4. , ...,  0.2,  3. , 30. ],\n",
       "       [ 1. ,  1. ,  4. , ...,  0.2,  3. , 30. ],\n",
       "       ...,\n",
       "       [ 0. ,  0. ,  0. , ...,  0.3,  0. , 24. ],\n",
       "       [ 0. ,  0. ,  4. , ...,  0.2,  0. , 13. ],\n",
       "       [ 0. ,  0. ,  0. , ...,  0.3,  2. , 13. ]])"
      ]
     },
     "execution_count": 25,
     "metadata": {},
     "output_type": "execute_result"
    }
   ],
   "source": [
    "X_train_selected"
   ]
  },
  {
   "cell_type": "code",
   "execution_count": 26,
   "id": "81a207f3",
   "metadata": {},
   "outputs": [
    {
     "data": {
      "text/html": [
       "<div>\n",
       "<style scoped>\n",
       "    .dataframe tbody tr th:only-of-type {\n",
       "        vertical-align: middle;\n",
       "    }\n",
       "\n",
       "    .dataframe tbody tr th {\n",
       "        vertical-align: top;\n",
       "    }\n",
       "\n",
       "    .dataframe thead th {\n",
       "        text-align: right;\n",
       "    }\n",
       "</style>\n",
       "<table border=\"1\" class=\"dataframe\">\n",
       "  <thead>\n",
       "    <tr style=\"text-align: right;\">\n",
       "      <th></th>\n",
       "      <th>TXTDnsResponse</th>\n",
       "      <th>HasSPFInfo</th>\n",
       "      <th>CreationDate</th>\n",
       "      <th>LastUpdateDate</th>\n",
       "      <th>StrangeCharacters</th>\n",
       "      <th>ConsoantRatio</th>\n",
       "      <th>NumericRatio</th>\n",
       "      <th>VowelRatio</th>\n",
       "      <th>NumericSequence</th>\n",
       "      <th>DomainLength</th>\n",
       "    </tr>\n",
       "  </thead>\n",
       "  <tbody>\n",
       "    <tr>\n",
       "      <th>81935</th>\n",
       "      <td>False</td>\n",
       "      <td>False</td>\n",
       "      <td>0</td>\n",
       "      <td>0</td>\n",
       "      <td>0</td>\n",
       "      <td>0.6</td>\n",
       "      <td>0.0</td>\n",
       "      <td>0.3</td>\n",
       "      <td>0</td>\n",
       "      <td>20</td>\n",
       "    </tr>\n",
       "    <tr>\n",
       "      <th>66051</th>\n",
       "      <td>True</td>\n",
       "      <td>True</td>\n",
       "      <td>4</td>\n",
       "      <td>4</td>\n",
       "      <td>6</td>\n",
       "      <td>0.3</td>\n",
       "      <td>0.3</td>\n",
       "      <td>0.2</td>\n",
       "      <td>3</td>\n",
       "      <td>30</td>\n",
       "    </tr>\n",
       "    <tr>\n",
       "      <th>61172</th>\n",
       "      <td>True</td>\n",
       "      <td>True</td>\n",
       "      <td>4</td>\n",
       "      <td>4</td>\n",
       "      <td>6</td>\n",
       "      <td>0.3</td>\n",
       "      <td>0.3</td>\n",
       "      <td>0.2</td>\n",
       "      <td>3</td>\n",
       "      <td>30</td>\n",
       "    </tr>\n",
       "    <tr>\n",
       "      <th>89049</th>\n",
       "      <td>False</td>\n",
       "      <td>False</td>\n",
       "      <td>0</td>\n",
       "      <td>0</td>\n",
       "      <td>18</td>\n",
       "      <td>0.6</td>\n",
       "      <td>0.2</td>\n",
       "      <td>0.1</td>\n",
       "      <td>2</td>\n",
       "      <td>132</td>\n",
       "    </tr>\n",
       "    <tr>\n",
       "      <th>9522</th>\n",
       "      <td>False</td>\n",
       "      <td>False</td>\n",
       "      <td>4</td>\n",
       "      <td>4</td>\n",
       "      <td>0</td>\n",
       "      <td>0.5</td>\n",
       "      <td>0.0</td>\n",
       "      <td>0.4</td>\n",
       "      <td>0</td>\n",
       "      <td>13</td>\n",
       "    </tr>\n",
       "    <tr>\n",
       "      <th>...</th>\n",
       "      <td>...</td>\n",
       "      <td>...</td>\n",
       "      <td>...</td>\n",
       "      <td>...</td>\n",
       "      <td>...</td>\n",
       "      <td>...</td>\n",
       "      <td>...</td>\n",
       "      <td>...</td>\n",
       "      <td>...</td>\n",
       "      <td>...</td>\n",
       "    </tr>\n",
       "    <tr>\n",
       "      <th>6267</th>\n",
       "      <td>True</td>\n",
       "      <td>True</td>\n",
       "      <td>4</td>\n",
       "      <td>4</td>\n",
       "      <td>7</td>\n",
       "      <td>0.3</td>\n",
       "      <td>0.3</td>\n",
       "      <td>0.2</td>\n",
       "      <td>3</td>\n",
       "      <td>31</td>\n",
       "    </tr>\n",
       "    <tr>\n",
       "      <th>54993</th>\n",
       "      <td>False</td>\n",
       "      <td>False</td>\n",
       "      <td>0</td>\n",
       "      <td>0</td>\n",
       "      <td>0</td>\n",
       "      <td>0.5</td>\n",
       "      <td>0.0</td>\n",
       "      <td>0.5</td>\n",
       "      <td>0</td>\n",
       "      <td>24</td>\n",
       "    </tr>\n",
       "    <tr>\n",
       "      <th>76987</th>\n",
       "      <td>False</td>\n",
       "      <td>False</td>\n",
       "      <td>0</td>\n",
       "      <td>0</td>\n",
       "      <td>0</td>\n",
       "      <td>0.6</td>\n",
       "      <td>0.0</td>\n",
       "      <td>0.3</td>\n",
       "      <td>0</td>\n",
       "      <td>24</td>\n",
       "    </tr>\n",
       "    <tr>\n",
       "      <th>860</th>\n",
       "      <td>False</td>\n",
       "      <td>False</td>\n",
       "      <td>4</td>\n",
       "      <td>4</td>\n",
       "      <td>0</td>\n",
       "      <td>0.6</td>\n",
       "      <td>0.0</td>\n",
       "      <td>0.2</td>\n",
       "      <td>0</td>\n",
       "      <td>13</td>\n",
       "    </tr>\n",
       "    <tr>\n",
       "      <th>15802</th>\n",
       "      <td>False</td>\n",
       "      <td>False</td>\n",
       "      <td>0</td>\n",
       "      <td>0</td>\n",
       "      <td>0</td>\n",
       "      <td>0.5</td>\n",
       "      <td>0.2</td>\n",
       "      <td>0.3</td>\n",
       "      <td>2</td>\n",
       "      <td>13</td>\n",
       "    </tr>\n",
       "  </tbody>\n",
       "</table>\n",
       "<p>71864 rows × 10 columns</p>\n",
       "</div>"
      ],
      "text/plain": [
       "       TXTDnsResponse  HasSPFInfo  CreationDate  LastUpdateDate  \\\n",
       "81935           False       False             0               0   \n",
       "66051            True        True             4               4   \n",
       "61172            True        True             4               4   \n",
       "89049           False       False             0               0   \n",
       "9522            False       False             4               4   \n",
       "...               ...         ...           ...             ...   \n",
       "6267             True        True             4               4   \n",
       "54993           False       False             0               0   \n",
       "76987           False       False             0               0   \n",
       "860             False       False             4               4   \n",
       "15802           False       False             0               0   \n",
       "\n",
       "       StrangeCharacters  ConsoantRatio  NumericRatio  VowelRatio  \\\n",
       "81935                  0            0.6           0.0         0.3   \n",
       "66051                  6            0.3           0.3         0.2   \n",
       "61172                  6            0.3           0.3         0.2   \n",
       "89049                 18            0.6           0.2         0.1   \n",
       "9522                   0            0.5           0.0         0.4   \n",
       "...                  ...            ...           ...         ...   \n",
       "6267                   7            0.3           0.3         0.2   \n",
       "54993                  0            0.5           0.0         0.5   \n",
       "76987                  0            0.6           0.0         0.3   \n",
       "860                    0            0.6           0.0         0.2   \n",
       "15802                  0            0.5           0.2         0.3   \n",
       "\n",
       "       NumericSequence  DomainLength  \n",
       "81935                0            20  \n",
       "66051                3            30  \n",
       "61172                3            30  \n",
       "89049                2           132  \n",
       "9522                 0            13  \n",
       "...                ...           ...  \n",
       "6267                 3            31  \n",
       "54993                0            24  \n",
       "76987                0            24  \n",
       "860                  0            13  \n",
       "15802                2            13  \n",
       "\n",
       "[71864 rows x 10 columns]"
      ]
     },
     "execution_count": 26,
     "metadata": {},
     "output_type": "execute_result"
    }
   ],
   "source": [
    "X_train[selected_features]"
   ]
  },
  {
   "cell_type": "code",
   "execution_count": 27,
   "id": "09c163c6",
   "metadata": {
    "scrolled": true
   },
   "outputs": [
    {
     "data": {
      "text/plain": [
       "Index(['TXTDnsResponse', 'HasSPFInfo', 'CreationDate', 'LastUpdateDate',\n",
       "       'StrangeCharacters', 'ConsoantRatio', 'NumericRatio', 'VowelRatio',\n",
       "       'NumericSequence', 'DomainLength'],\n",
       "      dtype='object')"
      ]
     },
     "execution_count": 27,
     "metadata": {},
     "output_type": "execute_result"
    }
   ],
   "source": [
    "selected_features"
   ]
  },
  {
   "cell_type": "code",
   "execution_count": 28,
   "id": "fcf06d27",
   "metadata": {},
   "outputs": [],
   "source": [
    "# Define classifiers\n",
    "classifiers = {\n",
    "    'Random Forest': RandomForestClassifier(),\n",
    "    'Support Vector Machine': SVC(),\n",
    "    'Gradient Boosting': GradientBoostingClassifier(),\n",
    "    'K-Nearest Neighbors': KNeighborsClassifier(),\n",
    "    'Decision Tree': DecisionTreeClassifier(),\n",
    "    'Naive Bayes': GaussianNB(),\n",
    "    'AdaBoost': AdaBoostClassifier()\n",
    "}\n"
   ]
  },
  {
   "cell_type": "code",
   "execution_count": 29,
   "id": "4a00c4d6",
   "metadata": {},
   "outputs": [
    {
     "name": "stdout",
     "output_type": "stream",
     "text": [
      "| Algorithm              |   Accuracy |   Precision |   Recall |   F1 Score |   Time (sec) |\n",
      "|------------------------|------------|-------------|----------|------------|--------------|\n",
      "| Random Forest          |   0.97729  |    0.97687  | 0.977953 |   0.977411 |    2.54406   |\n",
      "| Support Vector Machine |   0.952354 |    0.953486 | 0.951584 |   0.952534 |   74.4213    |\n",
      "| Gradient Boosting      |   0.976344 |    0.975456 | 0.977509 |   0.976482 |    3.10277   |\n",
      "| K-Nearest Neighbors    |   0.976122 |    0.97555  | 0.976955 |   0.976252 |    1.67654   |\n",
      "| Decision Tree          |   0.974062 |    0.976615 | 0.971637 |   0.97412  |    0.0867608 |\n",
      "| Naive Bayes            |   0.90816  |    0.952293 | 0.860292 |   0.903958 |    0.0488694 |\n",
      "| AdaBoost               |   0.969999 |    0.971134 | 0.969089 |   0.97011  |    1.39383   |\n"
     ]
    }
   ],
   "source": [
    "from tabulate import tabulate\n",
    "from time import time\n",
    "\n",
    "# Initialize an empty list to store results\n",
    "results = []\n",
    "\n",
    "# Initialize an empty dictionary to store times\n",
    "times = {}\n",
    "\n",
    "# Evaluate each classifier\n",
    "for clf_name, clf in classifiers.items():\n",
    "    start_time = time()  # Start time for the current classifier\n",
    "    # Train the classifier with the final selected features\n",
    "    clf.fit(X_train[selected_features], y_train)\n",
    "\n",
    "    # Evaluate the model on the test set\n",
    "    y_pred = clf.predict(X_test[selected_features])\n",
    "\n",
    "    # Compute evaluation metrics\n",
    "    accuracy = accuracy_score(y_test, y_pred)\n",
    "    precision = precision_score(y_test, y_pred)\n",
    "    recall = recall_score(y_test, y_pred)\n",
    "    f1 = f1_score(y_test, y_pred)\n",
    "\n",
    "    end_time = time()  # End time for the current classifier\n",
    "    elapsed_time = end_time - start_time  # Calculate elapsed time\n",
    "\n",
    "    # Append results to the list\n",
    "    results.append([clf_name, accuracy, precision, recall, f1, elapsed_time])\n",
    "    times[clf_name] = elapsed_time  # Store elapsed time for the current classifier\n",
    "\n",
    "# Print results in tabular format with github styling\n",
    "print(tabulate(results, headers=[\"Algorithm\", \"Accuracy\", \"Precision\", \"Recall\", \"F1 Score\", \"Time (sec)\"], tablefmt=\"github\"))\n"
   ]
  },
  {
   "cell_type": "code",
   "execution_count": 30,
   "id": "48aacaf6",
   "metadata": {},
   "outputs": [],
   "source": [
    "# Define classifiers with hyperparameter grids\n",
    "classifiers = {\n",
    "    'Random Forest': (RandomForestClassifier(), {'n_estimators': [50, 100, 150], 'max_depth': [None, 10, 20, 30]}),\n",
    "    'Gradient Boosting': (GradientBoostingClassifier(), {'n_estimators': [50, 100, 150], 'learning_rate': [0.01, 0.1, 0.5]}),\n",
    "    'K-Nearest Neighbors': (KNeighborsClassifier(), {'n_neighbors': [3, 5, 7], 'weights': ['uniform', 'distance']}),\n",
    "    'Decision Tree': (DecisionTreeClassifier(), {'max_depth': [None, 10, 20, 30], 'min_samples_split': [2, 5, 10]}),\n",
    "    'AdaBoost': (AdaBoostClassifier(), {'n_estimators': [50, 100, 150], 'learning_rate': [0.01, 0.1, 0.5]})\n",
    "}\n"
   ]
  },
  {
   "cell_type": "code",
   "execution_count": 32,
   "id": "a4fae8da",
   "metadata": {},
   "outputs": [
    {
     "data": {
      "text/plain": [
       "{'Random Forest': {'max_depth': 30, 'n_estimators': 50},\n",
       " 'Gradient Boosting': {'learning_rate': 0.5, 'n_estimators': 50},\n",
       " 'K-Nearest Neighbors': {'n_neighbors': 3, 'weights': 'uniform'},\n",
       " 'Decision Tree': {'max_depth': 10, 'min_samples_split': 2},\n",
       " 'AdaBoost': {'learning_rate': 0.5, 'n_estimators': 150}}"
      ]
     },
     "execution_count": 32,
     "metadata": {},
     "output_type": "execute_result"
    }
   ],
   "source": [
    "from sklearn.model_selection import GridSearchCV\n",
    "\n",
    "# Create an empty dictionary to store best parameters\n",
    "best_params_dict = {}\n",
    "\n",
    "# Iterate over classifiers\n",
    "for clf_name, (clf, param_grid) in classifiers.items():\n",
    "    # Perform GridSearchCV for hyperparameter tuning\n",
    "    grid_search = GridSearchCV(estimator=clf, param_grid=param_grid, cv=5, scoring='accuracy')\n",
    "    grid_search.fit(X_train[selected_features], y_train)\n",
    "    \n",
    "    # Get the best parameters and store them in the dictionary\n",
    "    best_params_dict[clf_name] = grid_search.best_params_\n",
    "\n",
    "# Display the best parameters\n",
    "best_params_dict\n"
   ]
  },
  {
   "cell_type": "code",
   "execution_count": 33,
   "id": "16886c3e",
   "metadata": {},
   "outputs": [
    {
     "name": "stdout",
     "output_type": "stream",
     "text": [
      "+---------------------+------------+-------------+----------+------------+--------------+\n",
      "| Algorithm           |   Accuracy |   Precision |   Recall |   F1 Score |   Time (sec) |\n",
      "+=====================+============+=============+==========+============+==============+\n",
      "| Random Forest       |   0.977235 |    0.976868 | 0.977842 |   0.977355 |      1.24546 |\n",
      "+---------------------+------------+-------------+----------+------------+--------------+\n",
      "| Gradient Boosting   |   0.977402 |    0.97373  | 0.981498 |   0.977599 |      1.62963 |\n",
      "+---------------------+------------+-------------+----------+------------+--------------+\n",
      "| K-Nearest Neighbors |   0.974953 |    0.974441 | 0.975737 |   0.975089 |      1.76791 |\n",
      "+---------------------+------------+-------------+----------+------------+--------------+\n",
      "| Decision Tree       |   0.977402 |    0.974356 | 0.980833 |   0.977584 |      0.06095 |\n",
      "+---------------------+------------+-------------+----------+------------+--------------+\n",
      "| AdaBoost            |   0.968218 |    0.965532 | 0.971416 |   0.968465 |      4.20593 |\n",
      "+---------------------+------------+-------------+----------+------------+--------------+\n"
     ]
    }
   ],
   "source": [
    "from sklearn.metrics import accuracy_score, precision_score, recall_score, f1_score\n",
    "from tabulate import tabulate\n",
    "import time\n",
    "\n",
    "# Create an empty list to store results\n",
    "results = []\n",
    "\n",
    "# Iterate over classifiers\n",
    "for clf_name, (clf, param_grid) in classifiers.items():\n",
    "    start_time = time.time()  # Start time\n",
    "    \n",
    "    # Get the best parameters for the current classifier\n",
    "    best_params = best_params_dict[clf_name]\n",
    "    \n",
    "    # Create the best model with the best parameters\n",
    "    best_clf = clf.set_params(**best_params)\n",
    "    \n",
    "    # Train the best model on the full training set\n",
    "    best_clf.fit(X_train[selected_features], y_train)\n",
    "    \n",
    "    # Evaluate the model on the test set\n",
    "    y_pred = best_clf.predict(X_test[selected_features])\n",
    "    accuracy = accuracy_score(y_test, y_pred)\n",
    "    precision = precision_score(y_test, y_pred)\n",
    "    recall = recall_score(y_test, y_pred)\n",
    "    f1 = f1_score(y_test, y_pred)\n",
    "    \n",
    "    end_time = time.time()  # End time\n",
    "    elapsed_time = end_time - start_time  # Calculate elapsed time\n",
    "    \n",
    "    # Append results to the list\n",
    "    results.append([clf_name, accuracy, precision, recall, f1, elapsed_time])\n",
    "\n",
    "# Print results in tabular format\n",
    "headers = ['Algorithm', 'Accuracy', 'Precision', 'Recall', 'F1 Score', 'Time (sec)']\n",
    "print(tabulate(results, headers=headers, tablefmt='grid'))\n"
   ]
  },
  {
   "cell_type": "code",
   "execution_count": null,
   "id": "ddd3a0f2",
   "metadata": {},
   "outputs": [],
   "source": []
  }
 ],
 "metadata": {
  "kernelspec": {
   "display_name": "Python 3 (ipykernel)",
   "language": "python",
   "name": "python3"
  },
  "language_info": {
   "codemirror_mode": {
    "name": "ipython",
    "version": 3
   },
   "file_extension": ".py",
   "mimetype": "text/x-python",
   "name": "python",
   "nbconvert_exporter": "python",
   "pygments_lexer": "ipython3",
   "version": "3.11.4"
  }
 },
 "nbformat": 4,
 "nbformat_minor": 5
}
